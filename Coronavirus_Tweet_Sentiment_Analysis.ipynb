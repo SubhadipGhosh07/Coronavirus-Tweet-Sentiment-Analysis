{
  "nbformat": 4,
  "nbformat_minor": 0,
  "metadata": {
    "colab": {
      "name": "Coronavirus Tweet Sentiment Analysis.ipynb",
      "provenance": [],
      "include_colab_link": true
    },
    "kernelspec": {
      "display_name": "Python 3",
      "language": "python",
      "name": "python3"
    },
    "language_info": {
      "codemirror_mode": {
        "name": "ipython",
        "version": 3
      },
      "file_extension": ".py",
      "mimetype": "text/x-python",
      "name": "python",
      "nbconvert_exporter": "python",
      "pygments_lexer": "ipython3",
      "version": "3.6.13"
    }
  },
  "cells": [
    {
      "cell_type": "markdown",
      "metadata": {
        "id": "view-in-github",
        "colab_type": "text"
      },
      "source": [
        "<a href=\"https://colab.research.google.com/github/SubhadipGhosh07/Coronavirus-Tweet-Sentiment-Analysis/blob/main/Coronavirus_Tweet_Sentiment_Analysis.ipynb\" target=\"_parent\"><img src=\"https://colab.research.google.com/assets/colab-badge.svg\" alt=\"Open In Colab\"/></a>"
      ]
    },
    {
      "cell_type": "markdown",
      "metadata": {
        "id": "9B9NzzAqireh"
      },
      "source": [
        "# <b> Project Title: Sentiment Analysis : Predicting sentiment of COVID-19 tweets</b>"
      ]
    },
    {
      "cell_type": "markdown",
      "metadata": {
        "id": "ah5v7yGCirep"
      },
      "source": [
        "### <b>Problem Description:</b>\n",
        "\n",
        "Our objective is to build a classification model to predict the sentiment of COVID-19 tweets.The tweets have been pulled from Twitter and manual tagging has been done then.\n",
        "The names and usernames have been given codes to avoid any privacy concerns.\n",
        "\n",
        "We are given the following information:\n",
        "* Location: (Location of the user)\n",
        "* Tweet At: (Date at which the tweet was made)\n",
        "* Original Tweet: (The exact tweet)\n",
        "* Sentiment: (Sentiment of the tweet)"
      ]
    },
    {
      "cell_type": "code",
      "metadata": {
        "id": "8hC9bzmQGX3j"
      },
      "source": [
        "# Importing libraries\n",
        "import numpy as np\n",
        "import pandas as pd\n",
        "from numpy import math\n",
        "import matplotlib.pyplot as plt\n",
        "%matplotlib inline\n",
        "plt.style.use('seaborn-whitegrid')\n",
        "import seaborn as sns\n",
        "import warnings\n",
        "warnings.filterwarnings(\"ignore\")"
      ],
      "execution_count": null,
      "outputs": []
    },
    {
      "cell_type": "markdown",
      "metadata": {
        "id": "g-M2vMD7iret"
      },
      "source": [
        "## <b>Basic Data Inspection:</b>\n",
        "* Reading our dataset\n",
        "* Checking Duplicate records\n",
        "* Checking Null/Missing values\n",
        "* Checking the Location of users"
      ]
    },
    {
      "cell_type": "code",
      "metadata": {
        "colab": {
          "base_uri": "https://localhost:8080/",
          "height": 198
        },
        "id": "kpmGaqSPGX3q",
        "outputId": "b77f7f7e-83c7-4218-b4a9-8a616350b3f6"
      },
      "source": [
        "# Reading our dataset\n",
        "df = pd.read_csv(r\"C:\\Users\\Subho\\Downloads\\Copy of Coronavirus Tweets.csv\", encoding = 'latin-1')\n",
        "pd.set_option('display.max_columns', None)\n",
        "df.head()"
      ],
      "execution_count": null,
      "outputs": [
        {
          "output_type": "execute_result",
          "data": {
            "text/html": [
              "<div>\n",
              "<style scoped>\n",
              "    .dataframe tbody tr th:only-of-type {\n",
              "        vertical-align: middle;\n",
              "    }\n",
              "\n",
              "    .dataframe tbody tr th {\n",
              "        vertical-align: top;\n",
              "    }\n",
              "\n",
              "    .dataframe thead th {\n",
              "        text-align: right;\n",
              "    }\n",
              "</style>\n",
              "<table border=\"1\" class=\"dataframe\">\n",
              "  <thead>\n",
              "    <tr style=\"text-align: right;\">\n",
              "      <th></th>\n",
              "      <th>UserName</th>\n",
              "      <th>ScreenName</th>\n",
              "      <th>Location</th>\n",
              "      <th>TweetAt</th>\n",
              "      <th>OriginalTweet</th>\n",
              "      <th>Sentiment</th>\n",
              "    </tr>\n",
              "  </thead>\n",
              "  <tbody>\n",
              "    <tr>\n",
              "      <th>0</th>\n",
              "      <td>3799</td>\n",
              "      <td>48751</td>\n",
              "      <td>London</td>\n",
              "      <td>16-03-2020</td>\n",
              "      <td>@MeNyrbie @Phil_Gahan @Chrisitv https://t.co/i...</td>\n",
              "      <td>Neutral</td>\n",
              "    </tr>\n",
              "    <tr>\n",
              "      <th>1</th>\n",
              "      <td>3800</td>\n",
              "      <td>48752</td>\n",
              "      <td>UK</td>\n",
              "      <td>16-03-2020</td>\n",
              "      <td>advice Talk to your neighbours family to excha...</td>\n",
              "      <td>Positive</td>\n",
              "    </tr>\n",
              "    <tr>\n",
              "      <th>2</th>\n",
              "      <td>3801</td>\n",
              "      <td>48753</td>\n",
              "      <td>Vagabonds</td>\n",
              "      <td>16-03-2020</td>\n",
              "      <td>Coronavirus Australia: Woolworths to give elde...</td>\n",
              "      <td>Positive</td>\n",
              "    </tr>\n",
              "    <tr>\n",
              "      <th>3</th>\n",
              "      <td>3802</td>\n",
              "      <td>48754</td>\n",
              "      <td>NaN</td>\n",
              "      <td>16-03-2020</td>\n",
              "      <td>My food stock is not the only one which is emp...</td>\n",
              "      <td>Positive</td>\n",
              "    </tr>\n",
              "    <tr>\n",
              "      <th>4</th>\n",
              "      <td>3803</td>\n",
              "      <td>48755</td>\n",
              "      <td>NaN</td>\n",
              "      <td>16-03-2020</td>\n",
              "      <td>Me, ready to go at supermarket during the #COV...</td>\n",
              "      <td>Extremely Negative</td>\n",
              "    </tr>\n",
              "  </tbody>\n",
              "</table>\n",
              "</div>"
            ],
            "text/plain": [
              "   UserName  ScreenName   Location     TweetAt  \\\n",
              "0      3799       48751     London  16-03-2020   \n",
              "1      3800       48752         UK  16-03-2020   \n",
              "2      3801       48753  Vagabonds  16-03-2020   \n",
              "3      3802       48754        NaN  16-03-2020   \n",
              "4      3803       48755        NaN  16-03-2020   \n",
              "\n",
              "                                       OriginalTweet           Sentiment  \n",
              "0  @MeNyrbie @Phil_Gahan @Chrisitv https://t.co/i...             Neutral  \n",
              "1  advice Talk to your neighbours family to excha...            Positive  \n",
              "2  Coronavirus Australia: Woolworths to give elde...            Positive  \n",
              "3  My food stock is not the only one which is emp...            Positive  \n",
              "4  Me, ready to go at supermarket during the #COV...  Extremely Negative  "
            ]
          },
          "metadata": {
            "tags": []
          },
          "execution_count": 189
        }
      ]
    },
    {
      "cell_type": "code",
      "metadata": {
        "colab": {
          "base_uri": "https://localhost:8080/"
        },
        "id": "NiXqKrr6GX3s",
        "outputId": "48a7700d-22b0-4e79-c613-87b1dfd67be7"
      },
      "source": [
        "# Printing the shape of our dataset\n",
        "print(\"Rows: {}, columns: {}\".format(df.shape[0], df.shape[1]))"
      ],
      "execution_count": null,
      "outputs": [
        {
          "output_type": "stream",
          "text": [
            "Rows: 41157, columns: 6\n"
          ],
          "name": "stdout"
        }
      ]
    },
    {
      "cell_type": "code",
      "metadata": {
        "id": "DoBQaOwgirey",
        "outputId": "964e9e1a-6b0e-4329-e9da-9857b2e2a115"
      },
      "source": [
        "# Checking duplicated records\n",
        "df.duplicated(subset=['UserName']).sum()"
      ],
      "execution_count": null,
      "outputs": [
        {
          "output_type": "execute_result",
          "data": {
            "text/plain": [
              "0"
            ]
          },
          "metadata": {
            "tags": []
          },
          "execution_count": 191
        }
      ]
    },
    {
      "cell_type": "markdown",
      "metadata": {
        "id": "iknegnolire0"
      },
      "source": [
        "### <b>Checking Null Values (Missing Values) in our dataset:"
      ]
    },
    {
      "cell_type": "code",
      "metadata": {
        "colab": {
          "base_uri": "https://localhost:8080/",
          "height": 201
        },
        "id": "F_SAKFv1GX3s",
        "outputId": "de3ece8c-f5bf-4eb0-e7b3-b1372189fc33"
      },
      "source": [
        "# Checking Nan Values in our dataset\n",
        "plt.figure(figsize = (8,4))\n",
        "sns.heatmap(df.isnull(), yticklabels = False, cmap = 'crest')"
      ],
      "execution_count": null,
      "outputs": [
        {
          "output_type": "error",
          "ename": "NameError",
          "evalue": "ignored",
          "traceback": [
            "\u001b[0;31m---------------------------------------------------------------------------\u001b[0m",
            "\u001b[0;31mNameError\u001b[0m                                 Traceback (most recent call last)",
            "\u001b[0;32m<ipython-input-1-05165bbbdec0>\u001b[0m in \u001b[0;36m<module>\u001b[0;34m()\u001b[0m\n\u001b[1;32m      1\u001b[0m \u001b[0;31m# Checking Nan Values in our dataset\u001b[0m\u001b[0;34m\u001b[0m\u001b[0;34m\u001b[0m\u001b[0;34m\u001b[0m\u001b[0m\n\u001b[0;32m----> 2\u001b[0;31m \u001b[0mplt\u001b[0m\u001b[0;34m.\u001b[0m\u001b[0mfigure\u001b[0m\u001b[0;34m(\u001b[0m\u001b[0mfigsize\u001b[0m \u001b[0;34m=\u001b[0m \u001b[0;34m(\u001b[0m\u001b[0;36m8\u001b[0m\u001b[0;34m,\u001b[0m\u001b[0;36m4\u001b[0m\u001b[0;34m)\u001b[0m\u001b[0;34m)\u001b[0m\u001b[0;34m\u001b[0m\u001b[0;34m\u001b[0m\u001b[0m\n\u001b[0m\u001b[1;32m      3\u001b[0m \u001b[0msns\u001b[0m\u001b[0;34m.\u001b[0m\u001b[0mheatmap\u001b[0m\u001b[0;34m(\u001b[0m\u001b[0mdf\u001b[0m\u001b[0;34m.\u001b[0m\u001b[0misnull\u001b[0m\u001b[0;34m(\u001b[0m\u001b[0;34m)\u001b[0m\u001b[0;34m,\u001b[0m \u001b[0myticklabels\u001b[0m \u001b[0;34m=\u001b[0m \u001b[0;32mFalse\u001b[0m\u001b[0;34m,\u001b[0m \u001b[0mcmap\u001b[0m \u001b[0;34m=\u001b[0m \u001b[0;34m'crest'\u001b[0m\u001b[0;34m)\u001b[0m\u001b[0;34m\u001b[0m\u001b[0;34m\u001b[0m\u001b[0m\n",
            "\u001b[0;31mNameError\u001b[0m: name 'plt' is not defined"
          ]
        }
      ]
    },
    {
      "cell_type": "markdown",
      "metadata": {
        "id": "aTBxFvDwire2"
      },
      "source": [
        "### <b>Checking the Location of most users:"
      ]
    },
    {
      "cell_type": "code",
      "metadata": {
        "id": "r8VXMsl1ire2",
        "outputId": "2813dc37-10f6-47df-affd-23bdcaa4f3f2"
      },
      "source": [
        "# Locations of users\n",
        "plt.figure(figsize = (8,6))\n",
        "df['Location'].value_counts().head(20).plot(kind = 'barh')"
      ],
      "execution_count": null,
      "outputs": [
        {
          "output_type": "execute_result",
          "data": {
            "text/plain": [
              "<AxesSubplot:>"
            ]
          },
          "metadata": {
            "tags": []
          },
          "execution_count": 193
        },
        {
          "output_type": "display_data",
          "data": {
            "image/png": "[encoded data removed]",
            "text/plain": [
              "<Figure size 576x432 with 1 Axes>"
            ]
          },
          "metadata": {
            "tags": []
          }
        }
      ]
    },
    {
      "cell_type": "code",
      "metadata": {
        "id": "LlY37rUmGX3t"
      },
      "source": [
        "# Creating a copy to our dataset\n",
        "data = df.copy()\n",
        "# Removing the 'Location' column\n",
        "data.drop('Location', axis = 1, inplace = True)"
      ],
      "execution_count": null,
      "outputs": []
    },
    {
      "cell_type": "code",
      "metadata": {
        "id": "K8Fy4x9TGX3t"
      },
      "source": [
        "# We can remove the column 'ScreenName'\n",
        "data.drop('ScreenName', axis = 1, inplace = True)"
      ],
      "execution_count": null,
      "outputs": []
    },
    {
      "cell_type": "code",
      "metadata": {
        "colab": {
          "base_uri": "https://localhost:8080/",
          "height": 198
        },
        "id": "PUkyrKCpGX3u",
        "outputId": "2543e47d-0a5f-472a-d94b-7c0f8df109e1"
      },
      "source": [
        "data.head(5)"
      ],
      "execution_count": null,
      "outputs": [
        {
          "output_type": "execute_result",
          "data": {
            "text/html": [
              "<div>\n",
              "<style scoped>\n",
              "    .dataframe tbody tr th:only-of-type {\n",
              "        vertical-align: middle;\n",
              "    }\n",
              "\n",
              "    .dataframe tbody tr th {\n",
              "        vertical-align: top;\n",
              "    }\n",
              "\n",
              "    .dataframe thead th {\n",
              "        text-align: right;\n",
              "    }\n",
              "</style>\n",
              "<table border=\"1\" class=\"dataframe\">\n",
              "  <thead>\n",
              "    <tr style=\"text-align: right;\">\n",
              "      <th></th>\n",
              "      <th>UserName</th>\n",
              "      <th>TweetAt</th>\n",
              "      <th>OriginalTweet</th>\n",
              "      <th>Sentiment</th>\n",
              "    </tr>\n",
              "  </thead>\n",
              "  <tbody>\n",
              "    <tr>\n",
              "      <th>0</th>\n",
              "      <td>3799</td>\n",
              "      <td>16-03-2020</td>\n",
              "      <td>@MeNyrbie @Phil_Gahan @Chrisitv https://t.co/i...</td>\n",
              "      <td>Neutral</td>\n",
              "    </tr>\n",
              "    <tr>\n",
              "      <th>1</th>\n",
              "      <td>3800</td>\n",
              "      <td>16-03-2020</td>\n",
              "      <td>advice Talk to your neighbours family to excha...</td>\n",
              "      <td>Positive</td>\n",
              "    </tr>\n",
              "    <tr>\n",
              "      <th>2</th>\n",
              "      <td>3801</td>\n",
              "      <td>16-03-2020</td>\n",
              "      <td>Coronavirus Australia: Woolworths to give elde...</td>\n",
              "      <td>Positive</td>\n",
              "    </tr>\n",
              "    <tr>\n",
              "      <th>3</th>\n",
              "      <td>3802</td>\n",
              "      <td>16-03-2020</td>\n",
              "      <td>My food stock is not the only one which is emp...</td>\n",
              "      <td>Positive</td>\n",
              "    </tr>\n",
              "    <tr>\n",
              "      <th>4</th>\n",
              "      <td>3803</td>\n",
              "      <td>16-03-2020</td>\n",
              "      <td>Me, ready to go at supermarket during the #COV...</td>\n",
              "      <td>Extremely Negative</td>\n",
              "    </tr>\n",
              "  </tbody>\n",
              "</table>\n",
              "</div>"
            ],
            "text/plain": [
              "   UserName     TweetAt                                      OriginalTweet  \\\n",
              "0      3799  16-03-2020  @MeNyrbie @Phil_Gahan @Chrisitv https://t.co/i...   \n",
              "1      3800  16-03-2020  advice Talk to your neighbours family to excha...   \n",
              "2      3801  16-03-2020  Coronavirus Australia: Woolworths to give elde...   \n",
              "3      3802  16-03-2020  My food stock is not the only one which is emp...   \n",
              "4      3803  16-03-2020  Me, ready to go at supermarket during the #COV...   \n",
              "\n",
              "            Sentiment  \n",
              "0             Neutral  \n",
              "1            Positive  \n",
              "2            Positive  \n",
              "3            Positive  \n",
              "4  Extremely Negative  "
            ]
          },
          "metadata": {
            "tags": []
          },
          "execution_count": 196
        }
      ]
    },
    {
      "cell_type": "markdown",
      "metadata": {
        "id": "jFHKWmoMire6"
      },
      "source": [
        "## <b>Labeling our response feature 'Sentiment':</b>\n",
        "* Combining 'Positive' and 'Extremely Positive' sentiment as 1\n",
        "* Combining 'Negative' and 'Extremely Negative' sentiment as 2\n",
        "* Changing the labbel of 'Neutral' as 0"
      ]
    },
    {
      "cell_type": "code",
      "metadata": {
        "id": "Qm5-e59Fire7"
      },
      "source": [
        "# Changing sentiment labels\n",
        "# Combining Positive and extremely positive class labels\n",
        "# Combining Negative and extremely negative class labels\n",
        "\n",
        "def sentiment_label(tweet):\n",
        "    if tweet=='Neutral':\n",
        "        return 0\n",
        "    elif (tweet=='Positive') or  (tweet=='Extremely Positive'):\n",
        "        return 1\n",
        "    else:\n",
        "        return 2\n",
        "    \n",
        "data['Sentiment']=data['Sentiment'].apply(sentiment_label)"
      ],
      "execution_count": null,
      "outputs": []
    },
    {
      "cell_type": "code",
      "metadata": {
        "id": "BH8NbjKXire8",
        "outputId": "0351dbec-a481-4076-daae-5abe7db02c98"
      },
      "source": [
        "# Plotting the counts of Sentiment\n",
        "plt.figure(figsize=(8,5))\n",
        "sns.countplot('Sentiment', data =data)\n",
        "plt.title(\"Counts of Sentiments\")"
      ],
      "execution_count": null,
      "outputs": [
        {
          "output_type": "execute_result",
          "data": {
            "text/plain": [
              "Text(0.5, 1.0, 'Counts of Sentiments')"
            ]
          },
          "metadata": {
            "tags": []
          },
          "execution_count": 198
        },
        {
          "output_type": "display_data",
          "data": {
            "image/png": "[encoded data removed]",
            "text/plain": [
              "<Figure size 576x360 with 1 Axes>"
            ]
          },
          "metadata": {
            "tags": []
          }
        }
      ]
    },
    {
      "cell_type": "markdown",
      "metadata": {
        "id": "uWDzm4vuire9"
      },
      "source": [
        "Conclusion:\n",
        "The number of Positive sentiments are just over 17500 and Negative sentiments are over 15000.\n",
        "We have very less number of Neutral Sentiments to work with which are only 7500 in counts"
      ]
    },
    {
      "cell_type": "markdown",
      "metadata": {
        "id": "J3tXpc6Dire9"
      },
      "source": [
        "# <b>Text Pre-processing:</b>\n",
        "* Importing nltk libraries\n",
        "* Removing punctuations,numerical and other special characters\n",
        "* Removing stopwords\n",
        "* Using PorterStemmer to convert words into their root forms\n",
        "* Storing all the cleaned tweets in a list naming it 'corpus'\n",
        "* Counting the number of words in our corpus and plot it in a distribution plot"
      ]
    },
    {
      "cell_type": "code",
      "metadata": {
        "colab": {
          "base_uri": "https://localhost:8080/",
          "height": 198
        },
        "id": "8EGiP3uyGX3v",
        "outputId": "c689f609-73f4-4b97-a95d-ae0cd5560adb"
      },
      "source": [
        "# Checking our dataset\n",
        "data.head()"
      ],
      "execution_count": null,
      "outputs": [
        {
          "output_type": "execute_result",
          "data": {
            "text/html": [
              "<div>\n",
              "<style scoped>\n",
              "    .dataframe tbody tr th:only-of-type {\n",
              "        vertical-align: middle;\n",
              "    }\n",
              "\n",
              "    .dataframe tbody tr th {\n",
              "        vertical-align: top;\n",
              "    }\n",
              "\n",
              "    .dataframe thead th {\n",
              "        text-align: right;\n",
              "    }\n",
              "</style>\n",
              "<table border=\"1\" class=\"dataframe\">\n",
              "  <thead>\n",
              "    <tr style=\"text-align: right;\">\n",
              "      <th></th>\n",
              "      <th>UserName</th>\n",
              "      <th>TweetAt</th>\n",
              "      <th>OriginalTweet</th>\n",
              "      <th>Sentiment</th>\n",
              "    </tr>\n",
              "  </thead>\n",
              "  <tbody>\n",
              "    <tr>\n",
              "      <th>0</th>\n",
              "      <td>3799</td>\n",
              "      <td>16-03-2020</td>\n",
              "      <td>@MeNyrbie @Phil_Gahan @Chrisitv https://t.co/i...</td>\n",
              "      <td>0</td>\n",
              "    </tr>\n",
              "    <tr>\n",
              "      <th>1</th>\n",
              "      <td>3800</td>\n",
              "      <td>16-03-2020</td>\n",
              "      <td>advice Talk to your neighbours family to excha...</td>\n",
              "      <td>1</td>\n",
              "    </tr>\n",
              "    <tr>\n",
              "      <th>2</th>\n",
              "      <td>3801</td>\n",
              "      <td>16-03-2020</td>\n",
              "      <td>Coronavirus Australia: Woolworths to give elde...</td>\n",
              "      <td>1</td>\n",
              "    </tr>\n",
              "    <tr>\n",
              "      <th>3</th>\n",
              "      <td>3802</td>\n",
              "      <td>16-03-2020</td>\n",
              "      <td>My food stock is not the only one which is emp...</td>\n",
              "      <td>1</td>\n",
              "    </tr>\n",
              "    <tr>\n",
              "      <th>4</th>\n",
              "      <td>3803</td>\n",
              "      <td>16-03-2020</td>\n",
              "      <td>Me, ready to go at supermarket during the #COV...</td>\n",
              "      <td>2</td>\n",
              "    </tr>\n",
              "  </tbody>\n",
              "</table>\n",
              "</div>"
            ],
            "text/plain": [
              "   UserName     TweetAt                                      OriginalTweet  \\\n",
              "0      3799  16-03-2020  @MeNyrbie @Phil_Gahan @Chrisitv https://t.co/i...   \n",
              "1      3800  16-03-2020  advice Talk to your neighbours family to excha...   \n",
              "2      3801  16-03-2020  Coronavirus Australia: Woolworths to give elde...   \n",
              "3      3802  16-03-2020  My food stock is not the only one which is emp...   \n",
              "4      3803  16-03-2020  Me, ready to go at supermarket during the #COV...   \n",
              "\n",
              "   Sentiment  \n",
              "0          0  \n",
              "1          1  \n",
              "2          1  \n",
              "3          1  \n",
              "4          2  "
            ]
          },
          "metadata": {
            "tags": []
          },
          "execution_count": 199
        }
      ]
    },
    {
      "cell_type": "code",
      "metadata": {
        "id": "y4vufDENire_"
      },
      "source": [
        "# dropping the date column as it won't be of use to us\n",
        "data.drop('TweetAt',axis=1,inplace=True)"
      ],
      "execution_count": null,
      "outputs": []
    },
    {
      "cell_type": "code",
      "metadata": {
        "id": "XBNiwfF9ire_"
      },
      "source": [
        "# Importing Nltk libraries\n",
        "from sklearn.feature_extraction.text import CountVectorizer\n",
        "from sklearn.feature_extraction.text import TfidfVectorizer\n",
        "import re\n",
        "from nltk.corpus import stopwords\n",
        "from nltk.stem.porter import PorterStemmer\n",
        "from nltk.stem import WordNetLemmatizer\n",
        "import string\n",
        "import nltk\n",
        "ps = PorterStemmer()"
      ],
      "execution_count": null,
      "outputs": []
    },
    {
      "cell_type": "code",
      "metadata": {
        "id": "4qu4KaTgirfA",
        "outputId": "99cc5962-fe55-41aa-d20c-c3fe7bb8266b"
      },
      "source": [
        "nltk.download(\"stopwords\")"
      ],
      "execution_count": null,
      "outputs": [
        {
          "output_type": "stream",
          "text": [
            "[nltk_data] Downloading package stopwords to\n",
            "[nltk_data]     C:\\Users\\Subho\\AppData\\Roaming\\nltk_data...\n",
            "[nltk_data]   Package stopwords is already up-to-date!\n"
          ],
          "name": "stderr"
        },
        {
          "output_type": "execute_result",
          "data": {
            "text/plain": [
              "True"
            ]
          },
          "metadata": {
            "tags": []
          },
          "execution_count": 202
        }
      ]
    },
    {
      "cell_type": "code",
      "metadata": {
        "id": "GQCaKkl9irfB",
        "outputId": "79f0318d-c08e-417e-8ee2-6d95f4bda27e"
      },
      "source": [
        "# Checking the first tweet in our dataset\n",
        "data.loc[0, 'OriginalTweet'].split()"
      ],
      "execution_count": null,
      "outputs": [
        {
          "output_type": "execute_result",
          "data": {
            "text/plain": [
              "['@MeNyrbie',\n",
              " '@Phil_Gahan',\n",
              " '@Chrisitv',\n",
              " 'https://t.co/iFz9FAn2Pa',\n",
              " 'and',\n",
              " 'https://t.co/xX6ghGFzCC',\n",
              " 'and',\n",
              " 'https://t.co/I2NlzdxNo8']"
            ]
          },
          "metadata": {
            "tags": []
          },
          "execution_count": 203
        }
      ]
    },
    {
      "cell_type": "code",
      "metadata": {
        "id": "pPBMoomcirfC"
      },
      "source": [
        "# Storing all the cleaned tweets in a list\n",
        "corpus=[]\n",
        "for i in range(len(data)):\n",
        "    tweet=data.loc[i, 'OriginalTweet']\n",
        "    tweet=' '.join([word for word in tweet.split() if word[0:5]!='https'])\n",
        "    substitute = re.sub(\"[^a-zA-Z]\",' ',tweet)\n",
        "    substitute=substitute.lower()\n",
        "    final_tweet= ' '.join([ps.stem(word) for word in substitute.split() if word not in stopwords.words(\"english\")])\n",
        "    corpus.append(final_tweet)"
      ],
      "execution_count": null,
      "outputs": []
    },
    {
      "cell_type": "code",
      "metadata": {
        "id": "1JZf4K9zirfC",
        "outputId": "f6e66f05-76c1-47ed-b6bd-880f5f73ecee"
      },
      "source": [
        "# Printing the first tweets from our corpus\n",
        "corpus[:10]"
      ],
      "execution_count": null,
      "outputs": [
        {
          "output_type": "execute_result",
          "data": {
            "text/plain": [
              "['menyrbi phil gahan chrisitv',\n",
              " 'advic talk neighbour famili exchang phone number creat contact list phone number neighbour school employ chemist gp set onlin shop account poss adequ suppli regular med order',\n",
              " 'coronaviru australia woolworth give elderli disabl dedic shop hour amid covid outbreak',\n",
              " 'food stock one empti pleas panic enough food everyon take need stay calm stay safe covid franc covid covid coronaviru confin confinementot confinementgener',\n",
              " 'readi go supermarket covid outbreak paranoid food stock litterali empti coronaviru seriou thing pleas panic caus shortag coronavirusfr restezchezv stayathom confin',\n",
              " 'news region first confirm covid case came sullivan counti last week peopl flock area store purchas clean suppli hand sanit food toilet paper good tim dodson report',\n",
              " 'cashier groceri store share insight covid prove credibl comment civic class know talk',\n",
              " 'supermarket today buy toilet paper rebel toiletpapercrisi covid',\n",
              " 'due covid retail store classroom atlanta open walk busi class next two week begin monday march continu process onlin phone order normal thank understand',\n",
              " 'corona prevent stop buy thing cash use onlin payment method corona spread note also prefer onlin shop home time fight covid govindia indiafightscorona']"
            ]
          },
          "metadata": {
            "tags": []
          },
          "execution_count": 205
        }
      ]
    },
    {
      "cell_type": "code",
      "metadata": {
        "id": "43xgDdVrirfD",
        "outputId": "13364fc4-5336-4933-cc58-64bdf3eafd57"
      },
      "source": [
        "# Counting the number of words in each tweet\n",
        "corpus_word_count = [len(i.split()) for i in corpus]\n",
        "\n",
        "# Plotting the length of words in a histogram\n",
        "plt.figure(figsize=(12,5))\n",
        "plt.subplot(1,2,1)\n",
        "sns.distplot(corpus_word_count, hist=True)\n",
        "plt.title(\"Distribution of Word Counts\")\n",
        "\n",
        "plt.subplot(1,2,2)\n",
        "sns.boxplot(y=corpus_word_count)\n",
        "plt.title(\"Box-Plot of Word Counts\")"
      ],
      "execution_count": null,
      "outputs": [
        {
          "output_type": "execute_result",
          "data": {
            "text/plain": [
              "Text(0.5, 1.0, 'Box-Plot of Word Counts')"
            ]
          },
          "metadata": {
            "tags": []
          },
          "execution_count": 206
        },
        {
          "output_type": "display_data",
          "data": {
            "image/png": "[encoded data removed]",
            "text/plain": [
              "<Figure size 864x360 with 2 Axes>"
            ]
          },
          "metadata": {
            "tags": []
          }
        }
      ]
    },
    {
      "cell_type": "markdown",
      "metadata": {
        "id": "2yC16uwdirfF"
      },
      "source": [
        "**Conclusion**: \n",
        "\n",
        "Our distribution is very close to being normally distributed with only a few outliers when it comes to word counts."
      ]
    },
    {
      "cell_type": "code",
      "metadata": {
        "id": "1fiwhLU6irfF",
        "outputId": "938c1cf5-bcb0-4704-81e6-e358a56d4656"
      },
      "source": [
        "# Info of our corpus\n",
        "print(\"Max word counts of a tweet: {}\".format(max(corpus_word_count)))\n",
        "print(\"Min word counts of a tweet: {}\".format(min(corpus_word_count)))"
      ],
      "execution_count": null,
      "outputs": [
        {
          "output_type": "stream",
          "text": [
            "Max word counts of a tweet: 47\n",
            "Min word counts of a tweet: 0\n"
          ],
          "name": "stdout"
        }
      ]
    },
    {
      "cell_type": "markdown",
      "metadata": {
        "id": "YcQUCKXmirfF"
      },
      "source": [
        "## <b>Removing certain tweets:</b>\n",
        "* Removing those tweets having word count less than 5 and greater than 30"
      ]
    },
    {
      "cell_type": "code",
      "metadata": {
        "id": "6gtwV-VFirfG",
        "outputId": "e3311121-c766-4689-853b-67dd3027d2f2"
      },
      "source": [
        "# Our dataset\n",
        "data['word_count']=corpus_word_count\n",
        "data.head()"
      ],
      "execution_count": null,
      "outputs": [
        {
          "output_type": "execute_result",
          "data": {
            "text/html": [
              "<div>\n",
              "<style scoped>\n",
              "    .dataframe tbody tr th:only-of-type {\n",
              "        vertical-align: middle;\n",
              "    }\n",
              "\n",
              "    .dataframe tbody tr th {\n",
              "        vertical-align: top;\n",
              "    }\n",
              "\n",
              "    .dataframe thead th {\n",
              "        text-align: right;\n",
              "    }\n",
              "</style>\n",
              "<table border=\"1\" class=\"dataframe\">\n",
              "  <thead>\n",
              "    <tr style=\"text-align: right;\">\n",
              "      <th></th>\n",
              "      <th>UserName</th>\n",
              "      <th>OriginalTweet</th>\n",
              "      <th>Sentiment</th>\n",
              "      <th>word_count</th>\n",
              "    </tr>\n",
              "  </thead>\n",
              "  <tbody>\n",
              "    <tr>\n",
              "      <th>0</th>\n",
              "      <td>3799</td>\n",
              "      <td>@MeNyrbie @Phil_Gahan @Chrisitv https://t.co/i...</td>\n",
              "      <td>0</td>\n",
              "      <td>4</td>\n",
              "    </tr>\n",
              "    <tr>\n",
              "      <th>1</th>\n",
              "      <td>3800</td>\n",
              "      <td>advice Talk to your neighbours family to excha...</td>\n",
              "      <td>1</td>\n",
              "      <td>27</td>\n",
              "    </tr>\n",
              "    <tr>\n",
              "      <th>2</th>\n",
              "      <td>3801</td>\n",
              "      <td>Coronavirus Australia: Woolworths to give elde...</td>\n",
              "      <td>1</td>\n",
              "      <td>12</td>\n",
              "    </tr>\n",
              "    <tr>\n",
              "      <th>3</th>\n",
              "      <td>3802</td>\n",
              "      <td>My food stock is not the only one which is emp...</td>\n",
              "      <td>1</td>\n",
              "      <td>23</td>\n",
              "    </tr>\n",
              "    <tr>\n",
              "      <th>4</th>\n",
              "      <td>3803</td>\n",
              "      <td>Me, ready to go at supermarket during the #COV...</td>\n",
              "      <td>2</td>\n",
              "      <td>21</td>\n",
              "    </tr>\n",
              "  </tbody>\n",
              "</table>\n",
              "</div>"
            ],
            "text/plain": [
              "   UserName                                      OriginalTweet  Sentiment  \\\n",
              "0      3799  @MeNyrbie @Phil_Gahan @Chrisitv https://t.co/i...          0   \n",
              "1      3800  advice Talk to your neighbours family to excha...          1   \n",
              "2      3801  Coronavirus Australia: Woolworths to give elde...          1   \n",
              "3      3802  My food stock is not the only one which is emp...          1   \n",
              "4      3803  Me, ready to go at supermarket during the #COV...          2   \n",
              "\n",
              "   word_count  \n",
              "0           4  \n",
              "1          27  \n",
              "2          12  \n",
              "3          23  \n",
              "4          21  "
            ]
          },
          "metadata": {
            "tags": []
          },
          "execution_count": 208
        }
      ]
    },
    {
      "cell_type": "code",
      "metadata": {
        "id": "stYTRvK0irfG",
        "outputId": "fa867bd8-d010-47fb-a1fa-37f8fabbc3af"
      },
      "source": [
        "# Describing word counts\n",
        "data['word_count'].describe()"
      ],
      "execution_count": null,
      "outputs": [
        {
          "output_type": "execute_result",
          "data": {
            "text/plain": [
              "count    41157.000000\n",
              "mean        18.030517\n",
              "std          6.625369\n",
              "min          0.000000\n",
              "25%         13.000000\n",
              "50%         19.000000\n",
              "75%         23.000000\n",
              "max         47.000000\n",
              "Name: word_count, dtype: float64"
            ]
          },
          "metadata": {
            "tags": []
          },
          "execution_count": 209
        }
      ]
    },
    {
      "cell_type": "code",
      "metadata": {
        "id": "e4bSnJ1PirfH",
        "outputId": "2b3abe8d-6943-4d02-e4f5-e0ecd0200f24"
      },
      "source": [
        "# Removing tweets having word counts less than 5 and more than 30\n",
        "tweets=data.copy()\n",
        "tweets=tweets[tweets['word_count']>5]\n",
        "tweets=tweets[tweets['word_count']<=30]\n",
        "tweets.head()"
      ],
      "execution_count": null,
      "outputs": [
        {
          "output_type": "execute_result",
          "data": {
            "text/html": [
              "<div>\n",
              "<style scoped>\n",
              "    .dataframe tbody tr th:only-of-type {\n",
              "        vertical-align: middle;\n",
              "    }\n",
              "\n",
              "    .dataframe tbody tr th {\n",
              "        vertical-align: top;\n",
              "    }\n",
              "\n",
              "    .dataframe thead th {\n",
              "        text-align: right;\n",
              "    }\n",
              "</style>\n",
              "<table border=\"1\" class=\"dataframe\">\n",
              "  <thead>\n",
              "    <tr style=\"text-align: right;\">\n",
              "      <th></th>\n",
              "      <th>UserName</th>\n",
              "      <th>OriginalTweet</th>\n",
              "      <th>Sentiment</th>\n",
              "      <th>word_count</th>\n",
              "    </tr>\n",
              "  </thead>\n",
              "  <tbody>\n",
              "    <tr>\n",
              "      <th>1</th>\n",
              "      <td>3800</td>\n",
              "      <td>advice Talk to your neighbours family to excha...</td>\n",
              "      <td>1</td>\n",
              "      <td>27</td>\n",
              "    </tr>\n",
              "    <tr>\n",
              "      <th>2</th>\n",
              "      <td>3801</td>\n",
              "      <td>Coronavirus Australia: Woolworths to give elde...</td>\n",
              "      <td>1</td>\n",
              "      <td>12</td>\n",
              "    </tr>\n",
              "    <tr>\n",
              "      <th>3</th>\n",
              "      <td>3802</td>\n",
              "      <td>My food stock is not the only one which is emp...</td>\n",
              "      <td>1</td>\n",
              "      <td>23</td>\n",
              "    </tr>\n",
              "    <tr>\n",
              "      <th>4</th>\n",
              "      <td>3803</td>\n",
              "      <td>Me, ready to go at supermarket during the #COV...</td>\n",
              "      <td>2</td>\n",
              "      <td>21</td>\n",
              "    </tr>\n",
              "    <tr>\n",
              "      <th>5</th>\n",
              "      <td>3804</td>\n",
              "      <td>As news of the regionÂs first confirmed COVID...</td>\n",
              "      <td>1</td>\n",
              "      <td>27</td>\n",
              "    </tr>\n",
              "  </tbody>\n",
              "</table>\n",
              "</div>"
            ],
            "text/plain": [
              "   UserName                                      OriginalTweet  Sentiment  \\\n",
              "1      3800  advice Talk to your neighbours family to excha...          1   \n",
              "2      3801  Coronavirus Australia: Woolworths to give elde...          1   \n",
              "3      3802  My food stock is not the only one which is emp...          1   \n",
              "4      3803  Me, ready to go at supermarket during the #COV...          2   \n",
              "5      3804  As news of the regionÂs first confirmed COVID...          1   \n",
              "\n",
              "   word_count  \n",
              "1          27  \n",
              "2          12  \n",
              "3          23  \n",
              "4          21  \n",
              "5          27  "
            ]
          },
          "metadata": {
            "tags": []
          },
          "execution_count": 210
        }
      ]
    },
    {
      "cell_type": "code",
      "metadata": {
        "id": "Ewb06reRirfH",
        "outputId": "cbd964ac-d3ac-4684-eee5-f9fa1a17ac46"
      },
      "source": [
        "# Info about our dataset\n",
        "tweets.info()"
      ],
      "execution_count": null,
      "outputs": [
        {
          "output_type": "stream",
          "text": [
            "<class 'pandas.core.frame.DataFrame'>\n",
            "Int64Index: 39479 entries, 1 to 41156\n",
            "Data columns (total 4 columns):\n",
            " #   Column         Non-Null Count  Dtype \n",
            "---  ------         --------------  ----- \n",
            " 0   UserName       39479 non-null  int64 \n",
            " 1   OriginalTweet  39479 non-null  object\n",
            " 2   Sentiment      39479 non-null  int64 \n",
            " 3   word_count     39479 non-null  int64 \n",
            "dtypes: int64(3), object(1)\n",
            "memory usage: 1.5+ MB\n"
          ],
          "name": "stdout"
        }
      ]
    },
    {
      "cell_type": "code",
      "metadata": {
        "id": "T1Itw2VVirfH"
      },
      "source": [
        "# Updating the corpus\n",
        "corpus=[i for i in corpus if len(i.split())>5]\n",
        "corpus=[i for i in corpus if len(i.split())<=30]"
      ],
      "execution_count": null,
      "outputs": []
    },
    {
      "cell_type": "code",
      "metadata": {
        "id": "uCmbqgXLirfI",
        "outputId": "aa69b2eb-93a9-4ee1-e932-47b4144df260"
      },
      "source": [
        "# Length of our list\n",
        "len(corpus)"
      ],
      "execution_count": null,
      "outputs": [
        {
          "output_type": "execute_result",
          "data": {
            "text/plain": [
              "39479"
            ]
          },
          "metadata": {
            "tags": []
          },
          "execution_count": 213
        }
      ]
    },
    {
      "cell_type": "code",
      "metadata": {
        "id": "ovbumXmHirfI",
        "outputId": "b4a3166f-f32c-4843-ca5b-7341de894b54"
      },
      "source": [
        "tweets.head()"
      ],
      "execution_count": null,
      "outputs": [
        {
          "output_type": "execute_result",
          "data": {
            "text/html": [
              "<div>\n",
              "<style scoped>\n",
              "    .dataframe tbody tr th:only-of-type {\n",
              "        vertical-align: middle;\n",
              "    }\n",
              "\n",
              "    .dataframe tbody tr th {\n",
              "        vertical-align: top;\n",
              "    }\n",
              "\n",
              "    .dataframe thead th {\n",
              "        text-align: right;\n",
              "    }\n",
              "</style>\n",
              "<table border=\"1\" class=\"dataframe\">\n",
              "  <thead>\n",
              "    <tr style=\"text-align: right;\">\n",
              "      <th></th>\n",
              "      <th>UserName</th>\n",
              "      <th>OriginalTweet</th>\n",
              "      <th>Sentiment</th>\n",
              "      <th>word_count</th>\n",
              "    </tr>\n",
              "  </thead>\n",
              "  <tbody>\n",
              "    <tr>\n",
              "      <th>1</th>\n",
              "      <td>3800</td>\n",
              "      <td>advice Talk to your neighbours family to excha...</td>\n",
              "      <td>1</td>\n",
              "      <td>27</td>\n",
              "    </tr>\n",
              "    <tr>\n",
              "      <th>2</th>\n",
              "      <td>3801</td>\n",
              "      <td>Coronavirus Australia: Woolworths to give elde...</td>\n",
              "      <td>1</td>\n",
              "      <td>12</td>\n",
              "    </tr>\n",
              "    <tr>\n",
              "      <th>3</th>\n",
              "      <td>3802</td>\n",
              "      <td>My food stock is not the only one which is emp...</td>\n",
              "      <td>1</td>\n",
              "      <td>23</td>\n",
              "    </tr>\n",
              "    <tr>\n",
              "      <th>4</th>\n",
              "      <td>3803</td>\n",
              "      <td>Me, ready to go at supermarket during the #COV...</td>\n",
              "      <td>2</td>\n",
              "      <td>21</td>\n",
              "    </tr>\n",
              "    <tr>\n",
              "      <th>5</th>\n",
              "      <td>3804</td>\n",
              "      <td>As news of the regionÂs first confirmed COVID...</td>\n",
              "      <td>1</td>\n",
              "      <td>27</td>\n",
              "    </tr>\n",
              "  </tbody>\n",
              "</table>\n",
              "</div>"
            ],
            "text/plain": [
              "   UserName                                      OriginalTweet  Sentiment  \\\n",
              "1      3800  advice Talk to your neighbours family to excha...          1   \n",
              "2      3801  Coronavirus Australia: Woolworths to give elde...          1   \n",
              "3      3802  My food stock is not the only one which is emp...          1   \n",
              "4      3803  Me, ready to go at supermarket during the #COV...          2   \n",
              "5      3804  As news of the regionÂs first confirmed COVID...          1   \n",
              "\n",
              "   word_count  \n",
              "1          27  \n",
              "2          12  \n",
              "3          23  \n",
              "4          21  \n",
              "5          27  "
            ]
          },
          "metadata": {
            "tags": []
          },
          "execution_count": 214
        }
      ]
    },
    {
      "cell_type": "code",
      "metadata": {
        "id": "-IWHSEY0irfJ",
        "outputId": "dbef56d6-75ac-4898-92a5-ea799f45e4d4"
      },
      "source": [
        "# Plotting the counts of Sentiment\n",
        "plt.figure(figsize=(8,5))\n",
        "sns.countplot('Sentiment', data =tweets)\n",
        "plt.title(\"Counts of Sentiments after cleaning dataset\")"
      ],
      "execution_count": null,
      "outputs": [
        {
          "output_type": "execute_result",
          "data": {
            "text/plain": [
              "Text(0.5, 1.0, 'Counts of Sentiments after cleaning dataset')"
            ]
          },
          "metadata": {
            "tags": []
          },
          "execution_count": 216
        },
        {
          "output_type": "display_data",
          "data": {
            "image/png": "[encoded data removed]",
            "text/plain": [
              "<Figure size 576x360 with 1 Axes>"
            ]
          },
          "metadata": {
            "tags": []
          }
        }
      ]
    },
    {
      "cell_type": "markdown",
      "metadata": {
        "id": "_1KVogejirfJ"
      },
      "source": [
        "## <b>Setting up our dataset before passing our dataset into LSTM:</b>\n",
        "* Setting up our vocabulary\n",
        "* One hot representing using one_hot from Keras\n",
        "* Padding our tweets to get all the tweets of equal word counts\n",
        "* Embedding our padded-tweets"
      ]
    },
    {
      "cell_type": "code",
      "metadata": {
        "id": "Pwbeu-n-irfJ"
      },
      "source": [
        "# Importing tensorflow libraries for using LSTM\n",
        "from tensorflow.keras.layers import Embedding, Dropout\n",
        "from tensorflow.keras.preprocessing.sequence import pad_sequences\n",
        "from tensorflow.keras.models import Sequential\n",
        "from tensorflow.keras.preprocessing.text import one_hot\n",
        "from tensorflow.keras.layers import LSTM\n",
        "from tensorflow.keras.layers import Dense"
      ],
      "execution_count": null,
      "outputs": []
    },
    {
      "cell_type": "code",
      "metadata": {
        "id": "Wc0mb0qPirfK"
      },
      "source": [
        "# Vocabulary size\n",
        "vocab_size=10000"
      ],
      "execution_count": null,
      "outputs": []
    },
    {
      "cell_type": "code",
      "metadata": {
        "id": "v9L89dofirfK"
      },
      "source": [
        "# One hot representation\n",
        "one_hot_repr=[one_hot(ii,vocab_size) for ii in corpus]"
      ],
      "execution_count": null,
      "outputs": []
    },
    {
      "cell_type": "code",
      "metadata": {
        "id": "9GTjSYsIirfK",
        "outputId": "d05d5f19-f8d4-4c66-82e8-9008ff039456"
      },
      "source": [
        "# Padding our words using pad_sequences\n",
        "sentence_length = 30\n",
        "embed_tweets=pad_sequences(one_hot_repr, padding='pre', maxlen=sentence_length)\n",
        "print(embed_tweets[:4])"
      ],
      "execution_count": null,
      "outputs": [
        {
          "output_type": "stream",
          "text": [
            "[[   0    0    0 8585 5695 2533 1307  334 2685 9202 3213 3834 5663 2685\n",
            "  9202 2533 2794 9370 3075 2359 7028 1706 6803  554 4686 3942 6741 3650\n",
            "  3531 8336]\n",
            " [   0    0    0    0    0    0    0    0    0    0    0    0    0    0\n",
            "     0    0    0    0  501 2708 5178 8511 8468 8779 1905 6803 6923 1438\n",
            "  8555 1868]\n",
            " [   0    0    0    0    0    0    0 8437 3447 2999 3655 4204  768 2365\n",
            "  8437 2042 4760 5050 3081 2692 3081 1111 8555 2764 8555 8555  501 5068\n",
            "  6716  358]\n",
            " [   0    0    0    0    0    0    0    0    0 9160 6036 7907 8555 1868\n",
            "   548 8437 3447 4536 3655  501 8526 3064 4204  768 9184  343 5748 2182\n",
            "  1635 5068]]\n"
          ],
          "name": "stdout"
        }
      ]
    },
    {
      "cell_type": "markdown",
      "metadata": {
        "id": "FyuVClRxirfL"
      },
      "source": [
        "## <b>Setting up our LSTM Network:</b>\n",
        "* Setting input dimensions\n",
        "* Setting up our LSTM model\n",
        "* Adding Dropout layers to prevent overfitting"
      ]
    },
    {
      "cell_type": "code",
      "metadata": {
        "id": "aaZxtq38irfL"
      },
      "source": [
        "# Creating our LSTM model\n",
        "\n",
        "# Number of input dimensions\n",
        "number_of_features=50\n",
        "\n",
        "# Initialising model\n",
        "model=Sequential()\n",
        "model.add(Embedding(vocab_size, number_of_features, input_length=30))\n",
        "model.add(Dropout(0.25))\n",
        "\n",
        "# Adding LSTM layer\n",
        "model.add(LSTM(100))\n",
        "model.add(Dropout(0.25))\n",
        "\n",
        "# Adding Dense outplut layer\n",
        "model.add(Dense(3, activation='softmax'))\n",
        "model.compile(loss='sparse_categorical_crossentropy', optimizer='adam', metric='roc')"
      ],
      "execution_count": null,
      "outputs": []
    },
    {
      "cell_type": "code",
      "metadata": {
        "id": "58m_W9L9irfL",
        "outputId": "9ec0d89d-512a-4580-bba3-a5a98c44e6cf"
      },
      "source": [
        "# Printing summary of model\n",
        "model.summary()"
      ],
      "execution_count": null,
      "outputs": [
        {
          "output_type": "stream",
          "text": [
            "Model: \"sequential_7\"\n",
            "_________________________________________________________________\n",
            "Layer (type)                 Output Shape              Param #   \n",
            "=================================================================\n",
            "embedding_7 (Embedding)      (None, 30, 50)            500000    \n",
            "_________________________________________________________________\n",
            "dropout_12 (Dropout)         (None, 30, 50)            0         \n",
            "_________________________________________________________________\n",
            "lstm_6 (LSTM)                (None, 100)               60400     \n",
            "_________________________________________________________________\n",
            "dropout_13 (Dropout)         (None, 100)               0         \n",
            "_________________________________________________________________\n",
            "dense_6 (Dense)              (None, 3)                 303       \n",
            "=================================================================\n",
            "Total params: 560,703\n",
            "Trainable params: 560,703\n",
            "Non-trainable params: 0\n",
            "_________________________________________________________________\n"
          ],
          "name": "stdout"
        }
      ]
    },
    {
      "cell_type": "markdown",
      "metadata": {
        "id": "OHz2dxxZirfM"
      },
      "source": [
        "## <b>Fitting and then evaluating our model:</b>\n",
        "* Splitting our data into train and test\n",
        "* Prediction of our test data\n",
        "* Evaluating our model using classification report and confusion matrix"
      ]
    },
    {
      "cell_type": "code",
      "metadata": {
        "id": "LQYPdXYqirfM"
      },
      "source": [
        "# Defining X and y\n",
        "X=np.array(embed_tweets)\n",
        "y=np.array(tweets['Sentiment'])\n",
        "\n",
        "# Train-test splitting\n",
        "from sklearn.model_selection import train_test_split\n",
        "X_train,X_test,y_train,y_test = train_test_split(X,y,test_size=0.25,random_state=0)"
      ],
      "execution_count": null,
      "outputs": []
    },
    {
      "cell_type": "code",
      "metadata": {
        "id": "cwZ2xCe0irfM",
        "outputId": "dff91a72-c190-497c-b495-1ad39f122054"
      },
      "source": [
        "# Fitting our model\n",
        "model.fit(X_train,y_train, validation_data=(X_test,y_test), epochs=10, batch_size=64)"
      ],
      "execution_count": null,
      "outputs": [
        {
          "output_type": "stream",
          "text": [
            "Train on 29609 samples, validate on 9870 samples\n",
            "Epoch 1/10\n",
            "29609/29609 [==============================] - 16s 526us/sample - loss: 0.7734 - val_loss: 0.6126\n",
            "Epoch 2/10\n",
            "29609/29609 [==============================] - 12s 405us/sample - loss: 0.5263 - val_loss: 0.5900\n",
            "Epoch 3/10\n",
            "29609/29609 [==============================] - 12s 396us/sample - loss: 0.4568 - val_loss: 0.6309\n",
            "Epoch 4/10\n",
            "29609/29609 [==============================] - 12s 395us/sample - loss: 0.4161 - val_loss: 0.6404\n",
            "Epoch 5/10\n",
            "29609/29609 [==============================] - 12s 397us/sample - loss: 0.3820 - val_loss: 0.6679\n",
            "Epoch 6/10\n",
            "29609/29609 [==============================] - 12s 404us/sample - loss: 0.3442 - val_loss: 0.6857\n",
            "Epoch 7/10\n",
            "29609/29609 [==============================] - 12s 389us/sample - loss: 0.3047 - val_loss: 0.7548\n",
            "Epoch 8/10\n",
            "29609/29609 [==============================] - 12s 397us/sample - loss: 0.2690 - val_loss: 0.8657\n",
            "Epoch 9/10\n",
            "29609/29609 [==============================] - 12s 402us/sample - loss: 0.2401 - val_loss: 0.9278\n",
            "Epoch 10/10\n",
            "29609/29609 [==============================] - 12s 406us/sample - loss: 0.2167 - val_loss: 0.9611\n"
          ],
          "name": "stdout"
        },
        {
          "output_type": "execute_result",
          "data": {
            "text/plain": [
              "<tensorflow.python.keras.callbacks.History at 0x2b94d81d4e0>"
            ]
          },
          "metadata": {
            "tags": []
          },
          "execution_count": 169
        }
      ]
    },
    {
      "cell_type": "code",
      "metadata": {
        "id": "aIdVivcVirfN"
      },
      "source": [
        "# Predicting our test data\n",
        "y_pred=model.predict_classes(X_test)"
      ],
      "execution_count": null,
      "outputs": []
    },
    {
      "cell_type": "code",
      "metadata": {
        "id": "UHvlq3IwirfN",
        "outputId": "4d9b4ba1-691d-4043-8d91-818556543078"
      },
      "source": [
        "# Confusion matrix\n",
        "from sklearn.metrics import classification_report, confusion_matrix\n",
        "confusion_matrix(y_test,y_pred)"
      ],
      "execution_count": null,
      "outputs": [
        {
          "output_type": "execute_result",
          "data": {
            "text/plain": [
              "array([[ 992,  298,  385],\n",
              "       [ 308, 3376,  718],\n",
              "       [ 255,  562, 2976]], dtype=int64)"
            ]
          },
          "metadata": {
            "tags": []
          },
          "execution_count": 172
        }
      ]
    },
    {
      "cell_type": "code",
      "metadata": {
        "id": "ZT1B27JcirfN",
        "outputId": "575263d6-9b2b-43cf-de58-38caa188caf8"
      },
      "source": [
        "# Confusion report\n",
        "print(classification_report(y_test,y_pred))"
      ],
      "execution_count": null,
      "outputs": [
        {
          "output_type": "stream",
          "text": [
            "              precision    recall  f1-score   support\n",
            "\n",
            "           0       0.64      0.59      0.61      1675\n",
            "           1       0.80      0.77      0.78      4402\n",
            "           2       0.73      0.78      0.76      3793\n",
            "\n",
            "    accuracy                           0.74      9870\n",
            "   macro avg       0.72      0.71      0.72      9870\n",
            "weighted avg       0.74      0.74      0.74      9870\n",
            "\n"
          ],
          "name": "stdout"
        }
      ]
    },
    {
      "cell_type": "markdown",
      "metadata": {
        "id": "2JIVZiY0irfO"
      },
      "source": [
        "## <b>Evaluation Summary:</b>\n",
        "\n",
        "* From the confusion matrix, we observe that our model has correctly predicted 992 of the neutral sentiments, 3376 of our positive sentiments and 2976 of our negative sentiments\n",
        "* We have achieved an overall precision of 0.80 and 0.73 for Postive and negative sentiments respectively. And 0.64 for neutral sentiments which is'nt bad either as firstly, we had less data with neutral sentiments and it's quite difficult for the model to predict neutral sentiments\n",
        "* Overall accuracy of our model is 0.74\n",
        "* Considering both recall and precision, we have a f1 score of 0.61, 0.78 and 0.76 for neutral, positive and negative sentiments. Overall, our LSTM has worked well in predicting sentiments of these tweets"
      ]
    },
    {
      "cell_type": "code",
      "metadata": {
        "id": "l3ScgMbuirfO"
      },
      "source": [
        ""
      ],
      "execution_count": null,
      "outputs": []
    }
  ]
}